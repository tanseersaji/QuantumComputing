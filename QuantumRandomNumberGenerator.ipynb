{
 "cells": [
  {
   "cell_type": "markdown",
   "metadata": {},
   "source": [
    "# Quantum Random Number Generator\n",
    "\n",
    "This program generates an n bit number using Quantum Computer."
   ]
  },
  {
   "cell_type": "code",
   "execution_count": 1,
   "metadata": {},
   "outputs": [
    {
     "name": "stdout",
     "output_type": "stream",
     "text": [
      "[cirq.GridQubit(0, 0)]\n"
     ]
    }
   ],
   "source": [
    "# Cirq ---> Open Source Quantum Programming framework for Python\n",
    "import cirq as c\n",
    "\n",
    "from collections import Counter\n",
    "from time import time\n",
    "\n",
    "# Initialise a Qubit\n",
    "qubits = [c.GridQubit(0,0)]\n",
    "\n",
    "print(qubits)"
   ]
  },
  {
   "cell_type": "code",
   "execution_count": 2,
   "metadata": {},
   "outputs": [
    {
     "name": "stdout",
     "output_type": "stream",
     "text": [
      "(0, 0): ───H───M───\n"
     ]
    }
   ],
   "source": [
    "# Initialise a Quantum Circuit\n",
    "circuit = c.Circuit()\n",
    "\n",
    "# H ---> A list of all Hadamard gates\n",
    "# T ---> A list of all Moments in the circuit\n",
    "H,T,M = [],[],[]\n",
    "for qubit in qubits:\n",
    "    # Apply H gate to the qubit\n",
    "    H.append(c.H(qubit))\n",
    "\n",
    "for qubit in qubits:\n",
    "    # Measure qubit\n",
    "    M.append(c.measure(qubit))\n",
    "\n",
    "# Arrange the qubit operation on a circuit\n",
    "T = [H,M]    \n",
    "circuit.append(T)\n",
    "\n",
    "print(circuit)\n"
   ]
  },
  {
   "cell_type": "code",
   "execution_count": 3,
   "metadata": {},
   "outputs": [],
   "source": [
    "# Initialise a Quantum Simulator (Can be replaced by an actual Quantum Computer) \n",
    "qsim = c.Simulator()"
   ]
  },
  {
   "cell_type": "code",
   "execution_count": 4,
   "metadata": {},
   "outputs": [],
   "source": [
    "# Define a function that takes n bits and generates an n bit number\n",
    "# The circuit is but to create 1 bit, so to get n bit, we need to repeat this n times.\n",
    "# With more powerfull Quantum Computer this can be done in O(1)\n",
    "def getRandomNumber(size=8):\n",
    "    result = \"\"\n",
    "    for _ in range(size):\n",
    "        r = qsim.run(circuit, repetitions=1)\n",
    "        for key in r.data:\n",
    "            cbit = r.data[key].value_counts().head(1).keys()[0]\n",
    "            result += str(cbit)\n",
    "    result = \"0b\"+result[::-1]\n",
    "    return int(result,2)"
   ]
  },
  {
   "cell_type": "code",
   "execution_count": null,
   "metadata": {},
   "outputs": [],
   "source": [
    "n = 4",
    "print(getRandomNumber(n))"
   ]
  },
  {
   "cell_type": "code",
   "execution_count": null,
   "metadata": {},
   "outputs": [],
   "source": []
  }
 ],
 "metadata": {
  "kernelspec": {
   "display_name": "Python 3",
   "language": "python",
   "name": "python3"
  },
  "language_info": {
   "codemirror_mode": {
    "name": "ipython",
    "version": 3
   },
   "file_extension": ".py",
   "mimetype": "text/x-python",
   "name": "python",
   "nbconvert_exporter": "python",
   "pygments_lexer": "ipython3",
   "version": "3.8.0"
  }
 },
 "nbformat": 4,
 "nbformat_minor": 2
}
